{
 "cells": [
  {
   "cell_type": "code",
   "execution_count": 4,
   "metadata": {},
   "outputs": [],
   "source": [
    "import pandas as pd\n"
   ]
  },
  {
   "cell_type": "markdown",
   "metadata": {},
   "source": [
    "CLEANING DATA"
   ]
  },
  {
   "cell_type": "code",
   "execution_count": 5,
   "metadata": {},
   "outputs": [],
   "source": [
    "import os\n",
    "\n",
    "# Path to Folder storing Multiple Folders with CSV files\n",
    "main_folder_path = '/Users/francinasimone/Desktop/DreamApp1/Starlight/First_People/'\n",
    "\n",
    "# List all sub-folders (tribes) inside the main folder\n",
    "tribe_folders = [f for f in os.listdir(main_folder_path) if os.path.isdir(os.path.join(main_folder_path, f))]\n",
    "\n",
    "# This list will hold dataframes of all tribes\n",
    "all_dfs = []\n",
    "\n",
    "for tribe in tribe_folders:\n",
    "    tribe_folder_path = os.path.join(main_folder_path, tribe)\n",
    "    csv_files = [f for f in os.listdir(tribe_folder_path) if f.endswith('.csv')]\n",
    "    \n",
    "    # List to hold DataFrames of current tribe's CSVs\n",
    "    tribe_dfs = [pd.read_csv(os.path.join(tribe_folder_path, csv_file)) for csv_file in csv_files]\n",
    "    \n",
    "    # Concatenate the tribe's dataframes and append to all_dfs\n",
    "    all_dfs.append(pd.concat(tribe_dfs, ignore_index=True))\n",
    "\n",
    "# Finally, concatenate all tribes' dataframes\n",
    "final_df = pd.concat(all_dfs, ignore_index=True)\n"
   ]
  },
  {
   "cell_type": "markdown",
   "metadata": {},
   "source": [
    "DATA EXAMINATION"
   ]
  },
  {
   "cell_type": "code",
   "execution_count": null,
   "metadata": {},
   "outputs": [],
   "source": [
    "print(final_df.head())\n",
    "print(final_df.info())\n"
   ]
  },
  {
   "cell_type": "code",
   "execution_count": 15,
   "metadata": {},
   "outputs": [
    {
     "data": {
      "text/plain": [
       "Series([], Name: \\nGrizzly\\nA Shasta Legend\\nBefore people were on the Earth, the Chief of the Great Sky Spirits\\ngrew tired of his home in the Above World because it was always\\ncold. So he made a hole in the sky by turning a stone around and\\naround. Through the hole he pushed snow and ice until he made a\\nbig mound. This mound was Mount Shasta.\\nThen Sky Spirit stepped from the sky to the mountain and walked\\ndown. When he got about halfway down, he thought: \"On this\\nmountain there should be trees.\" So he put his finger down\\nand everywhere he touched, up sprang trees. Everywhere he stepped,\\nthe snow melted and became rivers.\\nThe Sky Spirit broke off the end of his big walking stick he had\\ncarried from the sky and threw the pieces in the water. The long\\npieces became Beaver and Otter. The smaller pieces became fish.\\nFrom the other end of his stick he made the animals.\\nBiggest of all was Grizzly Bear. They were covered with fur and\\nhad sharp claws just like today, but they could walk on their hind\\nfeet and talk. They were so fierce looking that the Sky Spirit sent\\nthem to live at the bottom of the mountain.\\nWhen the leaves fell from the trees, Sky Spirit blew on them and\\nmade the birds.\\nThen Sky Spirit decided to stay on the Earth and sent for his family.\\nMount Shasta became their lodge. He made a BIG fire in the middle\\nof the mountain and a hole in the top for the smoke and sparks.\\nEvery time he threw a really big log on the fire, the Earth would\\ntremble and sparks would fly from the top of the mountain.\\nLate one spring, Wind Spirit was blowing so hard that it blew the\\nsmoke back down the hole and burned the eyes of Sky Spirit's family.\\nSky Spirit told his youngest daughter to go tell Wind Spirit not\\nto blow so hard.\\nSky Spirit warned his daughter: \"When you get to the top,\\ndon't poke your head out. The wind might catch your hair and pull\\nyou out. Just put your arm through and make a sign and then speak\\nto Wind Spirit.\"\\nThe little girl hurried to the top of the mountain and spoke to\\nWind Spirit. As she started back down, she remembered that her father\\nhad told her that the ocean could be seen from the top of the mountain.\\nHe had made the ocean since moving his family to the mountain and\\nhis daughter had never seen it.\\nShe put her head out of the hole and looked to the west. The Wind\\nSpirit caught her hair and pulled her out of the mountain. She flew\\nover the ice and snow and landed in the scrubby fir trees at the\\ntimberline, her long red hair flowing over the snow.\\nThere Grizzly Bear found her. He carried the little girl home with\\nhim wondering who she was. Mother Grizzly Bear took care of her\\nand brought her up with her cubs. The little girl and the cubs grew\\nup together.\\nWhen she became a young woman, she and the eldest son of Grizzly\\nBear were married. In the years that followed they had many children.\\nThe children didn't look like their father or their mother.\\nAll the grizzly bears throughout the forest were proud of these\\nnew creatures. They were so pleased, they made a new lodge for the\\nred-haired mother and her strange looking children. They called\\nthe Lodge - Little Mount Shasta.\\nAfter many years had passed, Mother Grizzly Bear knew that she\\nwould soon die. Fearing that she had done wrong in keeping the little\\ngirl, she felt she should send word to the Chief of the Sky Spirits\\nand ask his forgiveness. So she gathered all the grizzlies at Little\\nMount Shasta and sent her oldest grandson to the top of Mount Shasta,\\nin a cloud, to tell the Spirit Chief where he could find his daughter.\\nThe father was very glad. He came down the mountain in great strides.\\nHe hurried so fast the snow melted. His tracks can be seen to this day.\\nAs he neared the lodge, he called out for his daughter.\\nHe expected to see a little girl exactly as he saw her last. When\\nhe saw the strange creatures his daughter was taking care of, he\\nwas surprised to learn that they were his grandchildren and he was\\nvery angry. He looked so sternly at the old grandmother that she\\ndied at once. Then he cursed all the grizzlies.\\n\"Get down on your hands and knees. From this moment on all\\ngrizzlies shall walk on four feet. And you shall never talk again.\\nYou have wronged me.\"\\nHe drove his grandchildren out of the lodge, threw his daughter\\nover his shoulder and climbed back up the mountain. Never again\\ndid he come to the forest. Some say he put out the fire in the center\\nof his lodge and returned to the sky with his daughter.\\nThose strange grandchildren scattered and wandered over the earth.\\nThey were the first Indians, the ancestors of all the Indian Tribes.\\nThat is why the Indians living around Mount Shasta never kill Grizzly\\nBear. Whenever one of them was killed by a grizzly bear, his body\\nwas burned on the spot. And for many years all who passed that way\\ncast a stone there until a great pile of stones marked the place\\nof his death.\\n\\nReturn to Shasta Legends\\n\\n, dtype: object)"
      ]
     },
     "execution_count": 15,
     "metadata": {},
     "output_type": "execute_result"
    }
   ],
   "source": [
    "final_df.iloc[:,0]"
   ]
  },
  {
   "cell_type": "markdown",
   "metadata": {},
   "source": [
    "RESHAPING THE DATA"
   ]
  },
  {
   "cell_type": "code",
   "execution_count": 32,
   "metadata": {},
   "outputs": [],
   "source": [
    "main_folder_path = '/Users/francinasimone/Desktop/DreamApp/Starlight/First_People/'\n",
    "\n",
    "tribe_folders = [f for f in os.listdir(main_folder_path) if os.path.isdir(os.path.join(main_folder_path, f))]\n",
    "\n",
    "# This list will store reshaped data with columns: tribe, title, text\n",
    "reshaped_data = []\n",
    "\n",
    "for tribe in tribe_folders:\n",
    "    tribe_folder_path = os.path.join(main_folder_path, tribe)\n",
    "    csv_files = [f for f in os.listdir(tribe_folder_path) if f.endswith('.csv')]\n",
    "    \n",
    "    for csv_file in csv_files:\n",
    "        df = pd.read_csv(os.path.join(tribe_folder_path, csv_file), header=None)\n",
    "        \n",
    "        for index, row in df.iterrows():\n",
    "            content = row[0]  # Assuming data is in the first column\n",
    "            # Splitting by newline and ensuring we have more than one segment to prevent errors\n",
    "            segments = content.split('\\n', 2)\n",
    "            if len(segments) >= 3:\n",
    "                title = segments[1].strip()\n",
    "                text = segments[2].split('\\n\\nReturn to', 1)[0].strip()  # Removing footer\n",
    "                reshaped_data.append([tribe, title, text])\n",
    "\n",
    "\n",
    "# Convert reshaped_data into a DataFrame\n",
    "final_df = pd.DataFrame(reshaped_data, columns=['Culture', 'Title', 'Text'])\n",
    "final_df.set_index('Culture', inplace=True)  # Setting Tribe as index\n"
   ]
  },
  {
   "cell_type": "code",
   "execution_count": 33,
   "metadata": {},
   "outputs": [
    {
     "data": {
      "text/html": [
       "<div>\n",
       "<style scoped>\n",
       "    .dataframe tbody tr th:only-of-type {\n",
       "        vertical-align: middle;\n",
       "    }\n",
       "\n",
       "    .dataframe tbody tr th {\n",
       "        vertical-align: top;\n",
       "    }\n",
       "\n",
       "    .dataframe thead th {\n",
       "        text-align: right;\n",
       "    }\n",
       "</style>\n",
       "<table border=\"1\" class=\"dataframe\">\n",
       "  <thead>\n",
       "    <tr style=\"text-align: right;\">\n",
       "      <th></th>\n",
       "      <th>Title</th>\n",
       "      <th>Text</th>\n",
       "    </tr>\n",
       "    <tr>\n",
       "      <th>Culture</th>\n",
       "      <th></th>\n",
       "      <th></th>\n",
       "    </tr>\n",
       "  </thead>\n",
       "  <tbody>\n",
       "    <tr>\n",
       "      <th>Shasta</th>\n",
       "      <td>Grizzly</td>\n",
       "      <td>A Shasta Legend\\nBefore people were on the Ear...</td>\n",
       "    </tr>\n",
       "    <tr>\n",
       "      <th>Shasta</th>\n",
       "      <td>How Coyote Stole Fire</td>\n",
       "      <td>A Shasta Legend\\nLong ago, when man was newly ...</td>\n",
       "    </tr>\n",
       "    <tr>\n",
       "      <th>Shasta</th>\n",
       "      <td>Old Man Above and the Grizzlies</td>\n",
       "      <td>A Shasta Legend\\nAlong time ago, while smoke s...</td>\n",
       "    </tr>\n",
       "    <tr>\n",
       "      <th>Shasta</th>\n",
       "      <td>How Old Man above created the World</td>\n",
       "      <td>A Shasta Legend\\nLong, long ago, when the worl...</td>\n",
       "    </tr>\n",
       "    <tr>\n",
       "      <th>Shasta</th>\n",
       "      <td>How The People Got Arrowheads</td>\n",
       "      <td>A Shasta Legend\\nIn the days when the first pe...</td>\n",
       "    </tr>\n",
       "    <tr>\n",
       "      <th>...</th>\n",
       "      <td>...</td>\n",
       "      <td>...</td>\n",
       "    </tr>\n",
       "    <tr>\n",
       "      <th>Pen_D_Oreille</th>\n",
       "      <td>Coyote and Mountain Sheep</td>\n",
       "      <td>A Pen D'Oreille Legend\\nCoyote was traveling, ...</td>\n",
       "    </tr>\n",
       "    <tr>\n",
       "      <th>Pen_D_Oreille</th>\n",
       "      <td>In Idaho</td>\n",
       "      <td>A Pen D'Oreille Legend\\nNear Spokane one day, ...</td>\n",
       "    </tr>\n",
       "    <tr>\n",
       "      <th>Pen_D_Oreille</th>\n",
       "      <td>Coyote and The Snake Monster</td>\n",
       "      <td>A Pen D'Oreille Legend\\nThere was a huge rattl...</td>\n",
       "    </tr>\n",
       "    <tr>\n",
       "      <th>Snohomish</th>\n",
       "      <td>Pushing up the Sky</td>\n",
       "      <td>A Snohomish Legend\\nThe Creator and Changer fi...</td>\n",
       "    </tr>\n",
       "    <tr>\n",
       "      <th>The_History_And_Traditional_Lands_Of_The_Huron_Iroquois</th>\n",
       "      <td>The Huron-Iroquois Nations</td>\n",
       "      <td>The History And Traditional Lands Of The Huron...</td>\n",
       "    </tr>\n",
       "  </tbody>\n",
       "</table>\n",
       "<p>1250 rows × 2 columns</p>\n",
       "</div>"
      ],
      "text/plain": [
       "                                                                                  Title  \\\n",
       "Culture                                                                                   \n",
       "Shasta                                                                          Grizzly   \n",
       "Shasta                                                            How Coyote Stole Fire   \n",
       "Shasta                                                  Old Man Above and the Grizzlies   \n",
       "Shasta                                              How Old Man above created the World   \n",
       "Shasta                                                    How The People Got Arrowheads   \n",
       "...                                                                                 ...   \n",
       "Pen_D_Oreille                                                 Coyote and Mountain Sheep   \n",
       "Pen_D_Oreille                                                                  In Idaho   \n",
       "Pen_D_Oreille                                              Coyote and The Snake Monster   \n",
       "Snohomish                                                            Pushing up the Sky   \n",
       "The_History_And_Traditional_Lands_Of_The_Huron_...           The Huron-Iroquois Nations   \n",
       "\n",
       "                                                                                                 Text  \n",
       "Culture                                                                                                \n",
       "Shasta                                              A Shasta Legend\\nBefore people were on the Ear...  \n",
       "Shasta                                              A Shasta Legend\\nLong ago, when man was newly ...  \n",
       "Shasta                                              A Shasta Legend\\nAlong time ago, while smoke s...  \n",
       "Shasta                                              A Shasta Legend\\nLong, long ago, when the worl...  \n",
       "Shasta                                              A Shasta Legend\\nIn the days when the first pe...  \n",
       "...                                                                                               ...  \n",
       "Pen_D_Oreille                                       A Pen D'Oreille Legend\\nCoyote was traveling, ...  \n",
       "Pen_D_Oreille                                       A Pen D'Oreille Legend\\nNear Spokane one day, ...  \n",
       "Pen_D_Oreille                                       A Pen D'Oreille Legend\\nThere was a huge rattl...  \n",
       "Snohomish                                           A Snohomish Legend\\nThe Creator and Changer fi...  \n",
       "The_History_And_Traditional_Lands_Of_The_Huron_...  The History And Traditional Lands Of The Huron...  \n",
       "\n",
       "[1250 rows x 2 columns]"
      ]
     },
     "execution_count": 33,
     "metadata": {},
     "output_type": "execute_result"
    }
   ],
   "source": [
    "#Viewing the Data Frame\n",
    "final_df[['Title','Text']]"
   ]
  },
  {
   "cell_type": "markdown",
   "metadata": {},
   "source": [
    "Handling Missing Values, Text Cleaning, and Duplicates"
   ]
  },
  {
   "cell_type": "code",
   "execution_count": 35,
   "metadata": {},
   "outputs": [],
   "source": [
    "# Drop rows where any of the columns are NaN\n",
    "final_df.dropna(inplace=True)"
   ]
  },
  {
   "cell_type": "code",
   "execution_count": 37,
   "metadata": {},
   "outputs": [],
   "source": [
    "# Trim spaces\n",
    "final_df['Text'] = final_df['Text'].str.strip()\n",
    "\n",
    "# Remove any potential HTML tags\n",
    "final_df['Text'] = final_df['Text'].str.replace('<[^<]+?>', '', regex=True)"
   ]
  },
  {
   "cell_type": "code",
   "execution_count": 38,
   "metadata": {},
   "outputs": [],
   "source": [
    "final_df.drop_duplicates(subset=['Text'], inplace=True)\n"
   ]
  },
  {
   "cell_type": "markdown",
   "metadata": {},
   "source": [
    "Final Check"
   ]
  },
  {
   "cell_type": "code",
   "execution_count": 39,
   "metadata": {},
   "outputs": [
    {
     "data": {
      "text/html": [
       "<div>\n",
       "<style scoped>\n",
       "    .dataframe tbody tr th:only-of-type {\n",
       "        vertical-align: middle;\n",
       "    }\n",
       "\n",
       "    .dataframe tbody tr th {\n",
       "        vertical-align: top;\n",
       "    }\n",
       "\n",
       "    .dataframe thead th {\n",
       "        text-align: right;\n",
       "    }\n",
       "</style>\n",
       "<table border=\"1\" class=\"dataframe\">\n",
       "  <thead>\n",
       "    <tr style=\"text-align: right;\">\n",
       "      <th></th>\n",
       "      <th>Title</th>\n",
       "      <th>Text</th>\n",
       "    </tr>\n",
       "    <tr>\n",
       "      <th>Culture</th>\n",
       "      <th></th>\n",
       "      <th></th>\n",
       "    </tr>\n",
       "  </thead>\n",
       "  <tbody>\n",
       "    <tr>\n",
       "      <th>Shasta</th>\n",
       "      <td>Grizzly</td>\n",
       "      <td>A Shasta Legend\\nBefore people were on the Ear...</td>\n",
       "    </tr>\n",
       "    <tr>\n",
       "      <th>Shasta</th>\n",
       "      <td>How Coyote Stole Fire</td>\n",
       "      <td>A Shasta Legend\\nLong ago, when man was newly ...</td>\n",
       "    </tr>\n",
       "    <tr>\n",
       "      <th>Shasta</th>\n",
       "      <td>Old Man Above and the Grizzlies</td>\n",
       "      <td>A Shasta Legend\\nAlong time ago, while smoke s...</td>\n",
       "    </tr>\n",
       "    <tr>\n",
       "      <th>Shasta</th>\n",
       "      <td>How Old Man above created the World</td>\n",
       "      <td>A Shasta Legend\\nLong, long ago, when the worl...</td>\n",
       "    </tr>\n",
       "    <tr>\n",
       "      <th>Shasta</th>\n",
       "      <td>How The People Got Arrowheads</td>\n",
       "      <td>A Shasta Legend\\nIn the days when the first pe...</td>\n",
       "    </tr>\n",
       "  </tbody>\n",
       "</table>\n",
       "</div>"
      ],
      "text/plain": [
       "                                       Title  \\\n",
       "Culture                                        \n",
       "Shasta                               Grizzly   \n",
       "Shasta                 How Coyote Stole Fire   \n",
       "Shasta       Old Man Above and the Grizzlies   \n",
       "Shasta   How Old Man above created the World   \n",
       "Shasta         How The People Got Arrowheads   \n",
       "\n",
       "                                                      Text  \n",
       "Culture                                                     \n",
       "Shasta   A Shasta Legend\\nBefore people were on the Ear...  \n",
       "Shasta   A Shasta Legend\\nLong ago, when man was newly ...  \n",
       "Shasta   A Shasta Legend\\nAlong time ago, while smoke s...  \n",
       "Shasta   A Shasta Legend\\nLong, long ago, when the worl...  \n",
       "Shasta   A Shasta Legend\\nIn the days when the first pe...  "
      ]
     },
     "execution_count": 39,
     "metadata": {},
     "output_type": "execute_result"
    }
   ],
   "source": [
    "final_df.head()"
   ]
  }
 ],
 "metadata": {
  "kernelspec": {
   "display_name": "virtualdream",
   "language": "python",
   "name": "python3"
  },
  "language_info": {
   "codemirror_mode": {
    "name": "ipython",
    "version": 3
   },
   "file_extension": ".py",
   "mimetype": "text/x-python",
   "name": "python",
   "nbconvert_exporter": "python",
   "pygments_lexer": "ipython3",
   "version": "3.10.2"
  },
  "orig_nbformat": 4
 },
 "nbformat": 4,
 "nbformat_minor": 2
}
